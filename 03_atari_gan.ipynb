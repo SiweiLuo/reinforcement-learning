{
  "nbformat": 4,
  "nbformat_minor": 0,
  "metadata": {
    "colab": {
      "name": "03_atari_gan.ipynb",
      "version": "0.3.2",
      "provenance": [],
      "include_colab_link": true
    },
    "kernelspec": {
      "name": "python3",
      "display_name": "Python 3"
    }
  },
  "cells": [
    {
      "cell_type": "markdown",
      "metadata": {
        "id": "view-in-github",
        "colab_type": "text"
      },
      "source": [
        "<a href=\"https://colab.research.google.com/github/SiweiLuo/reinforcement-learning/blob/master/03_atari_gan.ipynb\" target=\"_parent\"><img src=\"https://colab.research.google.com/assets/colab-badge.svg\" alt=\"Open In Colab\"/></a>"
      ]
    },
    {
      "cell_type": "code",
      "metadata": {
        "id": "RdWPtyRaZQcK",
        "colab_type": "code",
        "outputId": "3e3d9f34-18a1-4193-a0f2-211fa4bb7108",
        "colab": {
          "base_uri": "https://localhost:8080/",
          "height": 190
        }
      },
      "source": [
        "pip install tensorboardX"
      ],
      "execution_count": 0,
      "outputs": [
        {
          "output_type": "stream",
          "text": [
            "Collecting tensorboardX\n",
            "\u001b[?25l  Downloading https://files.pythonhosted.org/packages/c3/12/dcaf67e1312475b26db9e45e7bb6f32b540671a9ee120b3a72d9e09bc517/tensorboardX-1.8-py2.py3-none-any.whl (216kB)\n",
            "\r\u001b[K     |█▌                              | 10kB 15.2MB/s eta 0:00:01\r\u001b[K     |███                             | 20kB 6.5MB/s eta 0:00:01\r\u001b[K     |████▌                           | 30kB 9.1MB/s eta 0:00:01\r\u001b[K     |██████                          | 40kB 5.7MB/s eta 0:00:01\r\u001b[K     |███████▋                        | 51kB 7.0MB/s eta 0:00:01\r\u001b[K     |█████████                       | 61kB 8.2MB/s eta 0:00:01\r\u001b[K     |██████████▋                     | 71kB 9.3MB/s eta 0:00:01\r\u001b[K     |████████████▏                   | 81kB 10.4MB/s eta 0:00:01\r\u001b[K     |█████████████▋                  | 92kB 11.5MB/s eta 0:00:01\r\u001b[K     |███████████████▏                | 102kB 9.3MB/s eta 0:00:01\r\u001b[K     |████████████████▊               | 112kB 9.3MB/s eta 0:00:01\r\u001b[K     |██████████████████▏             | 122kB 9.3MB/s eta 0:00:01\r\u001b[K     |███████████████████▊            | 133kB 9.3MB/s eta 0:00:01\r\u001b[K     |█████████████████████▏          | 143kB 9.3MB/s eta 0:00:01\r\u001b[K     |██████████████████████▊         | 153kB 9.3MB/s eta 0:00:01\r\u001b[K     |████████████████████████▎       | 163kB 9.3MB/s eta 0:00:01\r\u001b[K     |█████████████████████████▊      | 174kB 9.3MB/s eta 0:00:01\r\u001b[K     |███████████████████████████▎    | 184kB 9.3MB/s eta 0:00:01\r\u001b[K     |████████████████████████████▉   | 194kB 9.3MB/s eta 0:00:01\r\u001b[K     |██████████████████████████████▎ | 204kB 9.3MB/s eta 0:00:01\r\u001b[K     |███████████████████████████████▉| 215kB 9.3MB/s eta 0:00:01\r\u001b[K     |████████████████████████████████| 225kB 9.3MB/s \n",
            "\u001b[?25hRequirement already satisfied: six in /usr/local/lib/python3.6/dist-packages (from tensorboardX) (1.12.0)\n",
            "Requirement already satisfied: protobuf>=3.2.0 in /usr/local/lib/python3.6/dist-packages (from tensorboardX) (3.7.1)\n",
            "Requirement already satisfied: numpy in /usr/local/lib/python3.6/dist-packages (from tensorboardX) (1.16.5)\n",
            "Requirement already satisfied: setuptools in /usr/local/lib/python3.6/dist-packages (from protobuf>=3.2.0->tensorboardX) (41.2.0)\n",
            "Installing collected packages: tensorboardX\n",
            "Successfully installed tensorboardX-1.8\n"
          ],
          "name": "stdout"
        }
      ]
    },
    {
      "cell_type": "code",
      "metadata": {
        "id": "TJvmuBVoYJnR",
        "colab_type": "code",
        "colab": {}
      },
      "source": [
        "\n",
        "import random\n",
        "import argparse\n",
        "import cv2 \n",
        "\n",
        "import torch \n",
        "import torch.nn as nn \n",
        "import torch.optim as optim \n",
        "from tensorboardX import SummaryWriter\n",
        "\n",
        "import torchvision.utils as vutils \n",
        "\n",
        "import gym \n",
        "import gym.spaces \n",
        "\n",
        "import numpy as np \n",
        "\n",
        "log = gym.logger\n",
        "log.set_level(gym.logger.INFO) \n",
        "\n",
        "\n",
        "LATENT_VECTOR_SIZE = 100 \n",
        "DISCR_FILTERS = 64 \n",
        "GENER_FILTERS = 64 \n",
        "BATCH_SIZE =  16 \n",
        "\n",
        "IMAGE_SIZE = 64 \n",
        "\n",
        "LEARNING_RATE = 0.0001 \n",
        "REPORT_EVERY_ITER = 100 \n",
        "SAVE_IMAGE_EVERY_ITER = 1000 \n",
        "\n",
        "\n",
        "\n"
      ],
      "execution_count": 0,
      "outputs": []
    },
    {
      "cell_type": "code",
      "metadata": {
        "id": "NXxcrtXeZHRa",
        "colab_type": "code",
        "colab": {}
      },
      "source": [
        "class InputWrapper(gym.ObservationWrapper):\n",
        "  \n",
        "  def __init__(self,*args):\n",
        "    super(InputWrapper,self).__init__(*args)\n",
        "    assert isinstance(self.observation_space,gym.spaces.Box)\n",
        "    old_space = self.observation_space\n",
        "    self.observation_space = gym.spaces.Box(self.observation(old_space.low),self.observation(old_space.high),)\n",
        "    \n",
        "    \n",
        "  def observation(self,observation):\n",
        "    new_obs = cv2.resize(observation,(IMAGE_SIZE,IMAGE_SIZE))\n",
        "    \n",
        "    new_obs = np.moveaxis(new_obs,2,0)\n",
        "    return new_obs.astype(np.float32)\n",
        "  \n",
        "  "
      ],
      "execution_count": 0,
      "outputs": []
    },
    {
      "cell_type": "code",
      "metadata": {
        "id": "MqyLMpzfaKoG",
        "colab_type": "code",
        "colab": {}
      },
      "source": [
        "class Discriminator(nn.Module):\n",
        "  def __init__(self,input_shape):\n",
        "    super(Discriminator,self).__init__() \n",
        "    \n",
        "    self.conv_pipe = nn.Sequential(\n",
        "        nn.Conv2d(in_channels=input_shape[0],out_channels=DISCR_FILTERS,kernel_size=4,stride=2,padding=1),\n",
        "        nn.ReLU(),\n",
        "        nn.Conv2d(in_channels=DISCR_FILTERS*2,out_channels=DISCR_FILTERS*4,kernel_size=4,stride=2,padding=1),\n",
        "        nn.BatchNorm2d(DISCR_FILTERS*4),\n",
        "        nn.ReLU(),\n",
        "        nn.Conv2d(in_channels=DISCR_FILTERS*4,out_channels=DISCR_FILTERS*8,kernel_size=4,stride=2,padding=1),\n",
        "        nn.BatchNorm2d(DISCR_FILTERS*8),\n",
        "        nn.ReLU(),\n",
        "        nn.Conv2d(in_channels=DISCR_FILTERS*8,out_channels=1,kernel_size=4,stride=1,padding=0),\n",
        "        nn.Sigmoid()\n",
        "    \n",
        "    )\n",
        "    \n",
        "  def forward(self,x):\n",
        "    conv_out = self.conv_pipe(x)\n",
        "    return conv_out.view(-1,1).squeeze(dim=1) "
      ],
      "execution_count": 0,
      "outputs": []
    },
    {
      "cell_type": "code",
      "metadata": {
        "id": "jCcPIdYHbZ4G",
        "colab_type": "code",
        "colab": {}
      },
      "source": [
        "class Generator(nn.Module):\n",
        "  def __init__(self,output_shape):\n",
        "    super(Generator,self).__init__()\n",
        "    \n",
        "    self.pipe = nn.Sequential(\n",
        "        nn.ConvTranspose2d(in_channels=LATENT_VECTOR_SIZE,out_channels=GENER_FILTERS*8,kernel_size=4,stride=1,padding=0),\n",
        "        nn.BatchNorm2d(GENER_FILTERS*8),\n",
        "        nn.ReLU(),\n",
        "        nn.ConvTranspose2d(in_channels=GENER_FILTERS*8,out_channels=GENER_FILTERS*4,kernel_size=4,stride=2,padding=1),\n",
        "        nn.BatchNorm2d(GENER_FILTERS * 4),\n",
        "        nn.ReLU(),\n",
        "        nn.ConvTranspose2d(in_channels=GENER_FILTERS * 4, out_channels=GENER_FILTERS * 2,kernel_size=4, stride=2, padding=1),\n",
        "        nn.BatchNorm2d(GENER_FILTERS * 2),\n",
        "        nn.ReLU(),\n",
        "        nn.ConvTranspose2d(in_channels=GENER_FILTERS * 2, out_channels=GENER_FILTERS,kernel_size=4, stride=2, padding=1),\n",
        "        nn.BatchNorm2d(GENER_FILTERS),\n",
        "        nn.ReLU(),\n",
        "        nn.ConvTranspose2d(in_channels=GENER_FILTERS, out_channels=output_shape[0],kernel_size=4, stride=2, padding=1),\n",
        "        nn.Tanh()\n",
        "\n",
        "    )\n",
        "    \n",
        "  def forward(self,x):\n",
        "    return self.pipe(x)"
      ],
      "execution_count": 0,
      "outputs": []
    },
    {
      "cell_type": "code",
      "metadata": {
        "id": "ivWrmadDc3ox",
        "colab_type": "code",
        "colab": {}
      },
      "source": [
        "def iterate_batches(envs,batch_size=BATCH_SIZE):\n",
        "  batch = [e.reset() for e in envs] \n",
        "  env_gen = iter(lambda:random.choice(envs), None)\n",
        "  \n",
        "  while True:\n",
        "    e = next(env_gen)\n",
        "    obs, reward, is_done, _ = e.step(e.action_space.sample())\n",
        "    \n",
        "    if np.mean(obs) > 0.01: \n",
        "      batch.append(obs)\n",
        "    if len(batch) == batch_size: \n",
        "      batch_np = np.array(batch,dtype=np.float32)*2.0/255.0 -1.0\n",
        "      yield torch.tensor(batch_np) \n",
        "      batch.clear() \n",
        "      \n",
        "    if is_done:\n",
        "      e.reset() \n",
        "      \n",
        "      "
      ],
      "execution_count": 0,
      "outputs": []
    },
    {
      "cell_type": "code",
      "metadata": {
        "id": "C8edIZbNdlfc",
        "colab_type": "code",
        "outputId": "81c4b998-d1a2-4fbf-97b5-54be86732cdc",
        "colab": {
          "base_uri": "https://localhost:8080/",
          "height": 181
        }
      },
      "source": [
        "if __name__ == \"__main__\":\n",
        "  parser = argparse.ArgumentParser()\n",
        "  parser.add_argument(\"--cuda\",default=False,action='store_true',help=\"Enable cuda computation\")\n",
        "  args = parser.parse_args() \n",
        "  \n",
        "  device = torch.device(\"cuda\" if args.cuda else \"cpu\")\n",
        "  envs = [InputWrapper(gym.make(name)) for name in ('Breakout-v0','AirRaid-v0','Pong-v0')]\n",
        "  input_shape = envs[0].observation_space.shape\n",
        "  \n",
        "  net_discr = Discriminator(input_shape=input_shape).to(device)\n",
        "  net_gener = Generator(output_shape=input_shape).to(device)\n",
        "  \n",
        "  objective = nn.BCELoss()\n",
        "  gen_optimizer = optim.Adam(params=net_gener.parameters(),lr=LEARNING_RATE,betas=(0.5,0.999))\n",
        "  dis_optimizer = optim.Adam(params=net_discr.parameters(), lr=LEARNING_RATE, betas=(0.5, 0.999))\n",
        "  \n",
        "  writer = SummaryWriter() \n",
        "  \n",
        "  gen_losses = [] \n",
        "  dis_losses = [] \n",
        "  iter_no = 0 \n",
        "  \n",
        "  true_labels_v = torch.ones(BATCH_SIZE,dtype=torch.float32,device=device)\n",
        "  fake_labels_v = torch.zeros(BATCH_SIZE,dtype=torch.float32,device=device)\n",
        "  \n",
        "  for batch_v in iterate_batches(envs):\n",
        "    gen_input_v = torch.FloatTensor(BATCH_SIZE,LATENT_VECTOR_SIZE,1,1).normal_(0,1).to(device)\n",
        "    batch_v = batch_v.to(device)\n",
        "    gen_output_v = net_gener(gen_input_v) \n",
        "    \n",
        "    dis_optimizer.zero_grad()\n",
        "    \n",
        "    dis_output_true_v = net_discr(batch_v)\n",
        "    dis_output_fake_v = net_discr(gen_output_v.detach())\n",
        "    dis_loss = objective(dis_output_true_v,true_labels_v)+objective(dis_output_fake_v,fake_labels_v)\n",
        "    dis_loss.backward()\n",
        "    dis_optimizer.step()\n",
        "    dis_losses.append(dis_loss.item())\n",
        "    \n",
        "    \n",
        "    gen_optimizer.zero_grad()\n",
        "    dis_output_v = net_discr(gen_output_v) \n",
        "    gen_loss_v = objective(dis_output_v,true_labels_v)\n",
        "    gen_loss_v.backward()\n",
        "    gen_optimizer.step()\n",
        "    gen_losses.append(gen_loss_v.item())\n",
        "    \n",
        "    iter_no += 1 \n",
        "    \n",
        "    if iter_no % REPORT_EVERY_ITER == 0: \n",
        "      \n",
        "      log.info()\n",
        "      writer.add_scalar(\"gen_loss\",np.mean(gen_losses),iter_no)\n",
        "      writer.add_scalar(\"dis_loss\",np.mean(dis_losses),iter_no)\n",
        "      \n",
        "      gen_losses = []\n",
        "      dis_losses = [] \n",
        "      \n",
        "    if iter_no % SAVE_IMAGE_EVERY_ITER == 0 : \n",
        "      writer.add_image(\"fake\",vutils.make_grid(gen_output_v.data[:64],normalize=True),iter_no)\n",
        "      writer.add_image(\"real\",vutils.make_grid(batch_v.data[:64],normalize=True),iter_no)\n",
        "    \n",
        "    \n",
        "    "
      ],
      "execution_count": 22,
      "outputs": [
        {
          "output_type": "stream",
          "text": [
            "usage: ipykernel_launcher.py [-h] [--cuda]\n",
            "ipykernel_launcher.py: error: unrecognized arguments: -f /root/.local/share/jupyter/runtime/kernel-044f1471-10c9-43e1-9c11-e35f6f4892ac.json\n"
          ],
          "name": "stderr"
        },
        {
          "output_type": "error",
          "ename": "SystemExit",
          "evalue": "ignored",
          "traceback": [
            "An exception has occurred, use %tb to see the full traceback.\n",
            "\u001b[0;31mSystemExit\u001b[0m\u001b[0;31m:\u001b[0m 2\n"
          ]
        },
        {
          "output_type": "stream",
          "text": [
            "/usr/local/lib/python3.6/dist-packages/IPython/core/interactiveshell.py:2890: UserWarning: To exit: use 'exit', 'quit', or Ctrl-D.\n",
            "  warn(\"To exit: use 'exit', 'quit', or Ctrl-D.\", stacklevel=1)\n"
          ],
          "name": "stderr"
        }
      ]
    },
    {
      "cell_type": "code",
      "metadata": {
        "id": "E_KhEvYsgfSs",
        "colab_type": "code",
        "colab": {}
      },
      "source": [
        ""
      ],
      "execution_count": 0,
      "outputs": []
    }
  ]
}